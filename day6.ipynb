{
 "cells": [
  {
   "cell_type": "code",
   "execution_count": 1,
   "id": "9a24316a-527f-43fc-8c79-8d28505a0049",
   "metadata": {},
   "outputs": [],
   "source": [
    "import numpy as np"
   ]
  },
  {
   "cell_type": "code",
   "execution_count": 30,
   "id": "b6a01927-e9fc-48c9-a401-0267f65c07f4",
   "metadata": {},
   "outputs": [],
   "source": [
    "a=np.random.randint(30,99,(8,9))"
   ]
  },
  {
   "cell_type": "code",
   "execution_count": 31,
   "id": "3ab02561-b6cf-4d83-ae1a-855b2df5d51b",
   "metadata": {},
   "outputs": [
    {
     "data": {
      "text/plain": [
       "array([[78, 40, 90, 89, 89, 74, 82, 51, 92],\n",
       "       [82, 88, 91, 63, 75, 54, 48, 85, 57],\n",
       "       [92, 48, 92, 86, 72, 97, 88, 37, 48],\n",
       "       [95, 49, 49, 32, 62, 65, 63, 89, 51],\n",
       "       [50, 33, 37, 50, 43, 46, 70, 44, 59],\n",
       "       [30, 78, 72, 77, 34, 36, 55, 67, 79],\n",
       "       [53, 35, 73, 68, 80, 68, 75, 62, 86],\n",
       "       [47, 48, 71, 63, 31, 73, 40, 80, 43]])"
      ]
     },
     "execution_count": 31,
     "metadata": {},
     "output_type": "execute_result"
    }
   ],
   "source": [
    "a"
   ]
  },
  {
   "cell_type": "code",
   "execution_count": 32,
   "id": "25830b89-dfc5-4cc4-a62e-78fe68835c5b",
   "metadata": {},
   "outputs": [
    {
     "data": {
      "text/plain": [
       "array([[88, 91, 63, 75, 54],\n",
       "       [48, 92, 86, 72, 97],\n",
       "       [49, 49, 32, 62, 65],\n",
       "       [33, 37, 50, 43, 46]])"
      ]
     },
     "execution_count": 32,
     "metadata": {},
     "output_type": "execute_result"
    }
   ],
   "source": [
    "a[1:5,1:6]"
   ]
  },
  {
   "cell_type": "code",
   "execution_count": 36,
   "id": "453190fb-59cc-42c7-ac48-8768fa65fa98",
   "metadata": {},
   "outputs": [
    {
     "data": {
      "text/plain": [
       "(8, 9)"
      ]
     },
     "execution_count": 36,
     "metadata": {},
     "output_type": "execute_result"
    }
   ],
   "source": [
    "a.shape"
   ]
  },
  {
   "cell_type": "code",
   "execution_count": 35,
   "id": "8a18f24b-784f-42fd-86ca-be6e0265b93c",
   "metadata": {},
   "outputs": [
    {
     "data": {
      "text/plain": [
       "2"
      ]
     },
     "execution_count": 35,
     "metadata": {},
     "output_type": "execute_result"
    }
   ],
   "source": [
    "a.ndim"
   ]
  },
  {
   "cell_type": "code",
   "execution_count": 34,
   "id": "c36e2547-ec5b-4d0f-b409-9f06c9580832",
   "metadata": {},
   "outputs": [
    {
     "data": {
      "text/plain": [
       "array([92, 48, 92, 86, 72, 97, 88, 37, 48])"
      ]
     },
     "execution_count": 34,
     "metadata": {},
     "output_type": "execute_result"
    }
   ],
   "source": [
    "a[2]"
   ]
  },
  {
   "cell_type": "code",
   "execution_count": 37,
   "id": "37004324-2a93-4fad-9f79-e123df032463",
   "metadata": {},
   "outputs": [
    {
     "data": {
      "text/plain": [
       "array([[82, 88, 91, 63, 75, 54, 48, 85, 57],\n",
       "       [92, 48, 92, 86, 72, 97, 88, 37, 48],\n",
       "       [95, 49, 49, 32, 62, 65, 63, 89, 51],\n",
       "       [50, 33, 37, 50, 43, 46, 70, 44, 59],\n",
       "       [30, 78, 72, 77, 34, 36, 55, 67, 79],\n",
       "       [53, 35, 73, 68, 80, 68, 75, 62, 86],\n",
       "       [47, 48, 71, 63, 31, 73, 40, 80, 43]])"
      ]
     },
     "execution_count": 37,
     "metadata": {},
     "output_type": "execute_result"
    }
   ],
   "source": [
    "a[1:9]"
   ]
  },
  {
   "cell_type": "code",
   "execution_count": 38,
   "id": "e81ccf2e-4346-44a3-bb36-bfa247c4af8e",
   "metadata": {},
   "outputs": [],
   "source": [
    "#array[row_start: row_end : row_step , col_start: col_end:col_step]"
   ]
  },
  {
   "cell_type": "code",
   "execution_count": 39,
   "id": "177f6306-79b7-4f07-b6f2-ec366b68953b",
   "metadata": {},
   "outputs": [],
   "source": [
    "import pandas as pd"
   ]
  },
  {
   "cell_type": "code",
   "execution_count": 40,
   "id": "c59b2184-c229-4e53-a7ee-2309c3645e54",
   "metadata": {},
   "outputs": [
    {
     "data": {
      "text/plain": [
       "Series([], dtype: object)"
      ]
     },
     "execution_count": 40,
     "metadata": {},
     "output_type": "execute_result"
    }
   ],
   "source": [
    "pd.Series()"
   ]
  },
  {
   "cell_type": "code",
   "execution_count": 44,
   "id": "e6038f0b-4ad2-445b-ac4b-ff4ddb4c4942",
   "metadata": {},
   "outputs": [
    {
     "data": {
      "text/plain": [
       "([4, 7], [2, 9], [7, 3], [90, 50])"
      ]
     },
     "execution_count": 44,
     "metadata": {},
     "output_type": "execute_result"
    }
   ],
   "source": [
    "k=([4,7],[2,9],[7,3],[90,50])\n",
    "k"
   ]
  },
  {
   "cell_type": "code",
   "execution_count": 45,
   "id": "2f436344-50e2-4328-86f4-ff45f4630399",
   "metadata": {},
   "outputs": [
    {
     "data": {
      "text/plain": [
       "array([[ 4,  7],\n",
       "       [ 2,  9],\n",
       "       [ 7,  3],\n",
       "       [90, 50]])"
      ]
     },
     "execution_count": 45,
     "metadata": {},
     "output_type": "execute_result"
    }
   ],
   "source": [
    "np.array(k)"
   ]
  },
  {
   "cell_type": "code",
   "execution_count": 49,
   "id": "cd27a09b-ea90-4fe5-a87f-1bda23a5f1ce",
   "metadata": {},
   "outputs": [
    {
     "data": {
      "text/plain": [
       "0      [4, 7]\n",
       "1      [2, 9]\n",
       "2      [7, 3]\n",
       "3    [90, 50]\n",
       "dtype: object"
      ]
     },
     "execution_count": 49,
     "metadata": {},
     "output_type": "execute_result"
    }
   ],
   "source": [
    "t=pd.Series(k)\n",
    "t"
   ]
  },
  {
   "cell_type": "code",
   "execution_count": 54,
   "id": "c9f5a94a-a7c0-41cb-93dc-90820c438985",
   "metadata": {},
   "outputs": [
    {
     "data": {
      "text/html": [
       "<div>\n",
       "<style scoped>\n",
       "    .dataframe tbody tr th:only-of-type {\n",
       "        vertical-align: middle;\n",
       "    }\n",
       "\n",
       "    .dataframe tbody tr th {\n",
       "        vertical-align: top;\n",
       "    }\n",
       "\n",
       "    .dataframe thead th {\n",
       "        text-align: right;\n",
       "    }\n",
       "</style>\n",
       "<table border=\"1\" class=\"dataframe\">\n",
       "  <thead>\n",
       "    <tr style=\"text-align: right;\">\n",
       "      <th></th>\n",
       "      <th>0</th>\n",
       "    </tr>\n",
       "  </thead>\n",
       "  <tbody>\n",
       "    <tr>\n",
       "      <th>0</th>\n",
       "      <td>[4, 7]</td>\n",
       "    </tr>\n",
       "    <tr>\n",
       "      <th>1</th>\n",
       "      <td>[2, 9]</td>\n",
       "    </tr>\n",
       "    <tr>\n",
       "      <th>2</th>\n",
       "      <td>[7, 3]</td>\n",
       "    </tr>\n",
       "    <tr>\n",
       "      <th>3</th>\n",
       "      <td>[90, 50]</td>\n",
       "    </tr>\n",
       "  </tbody>\n",
       "</table>\n",
       "</div>"
      ],
      "text/plain": [
       "          0\n",
       "0    [4, 7]\n",
       "1    [2, 9]\n",
       "2    [7, 3]\n",
       "3  [90, 50]"
      ]
     },
     "execution_count": 54,
     "metadata": {},
     "output_type": "execute_result"
    }
   ],
   "source": [
    "pd.DataFrame(t)"
   ]
  },
  {
   "cell_type": "code",
   "execution_count": null,
   "id": "306362ac-8a20-42f4-bafc-ccbab1ce9fa7",
   "metadata": {},
   "outputs": [],
   "source": []
  },
  {
   "cell_type": "code",
   "execution_count": null,
   "id": "a653130a-ac3f-4639-b4ce-66e4bc9c604e",
   "metadata": {},
   "outputs": [],
   "source": []
  },
  {
   "cell_type": "code",
   "execution_count": null,
   "id": "9d7755e6-e501-4de5-87d3-000100a9253d",
   "metadata": {},
   "outputs": [],
   "source": []
  },
  {
   "cell_type": "code",
   "execution_count": null,
   "id": "700a19c8-8345-486b-8613-95d1ae4828c2",
   "metadata": {},
   "outputs": [],
   "source": []
  },
  {
   "cell_type": "code",
   "execution_count": null,
   "id": "e68d7354-7657-4e9d-b8eb-dede1df0fc54",
   "metadata": {},
   "outputs": [],
   "source": []
  }
 ],
 "metadata": {
  "kernelspec": {
   "display_name": "Python 3 (ipykernel)",
   "language": "python",
   "name": "python3"
  },
  "language_info": {
   "codemirror_mode": {
    "name": "ipython",
    "version": 3
   },
   "file_extension": ".py",
   "mimetype": "text/x-python",
   "name": "python",
   "nbconvert_exporter": "python",
   "pygments_lexer": "ipython3",
   "version": "3.12.7"
  }
 },
 "nbformat": 4,
 "nbformat_minor": 5
}
