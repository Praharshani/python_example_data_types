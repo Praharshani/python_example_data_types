{
 "cells": [
  {
   "cell_type": "code",
   "execution_count": 1,
   "id": "21054b60-5792-4b67-add2-bd0622d14710",
   "metadata": {},
   "outputs": [
    {
     "data": {
      "text/plain": [
       "[33, 44, 65, 88]"
      ]
     },
     "execution_count": 1,
     "metadata": {},
     "output_type": "execute_result"
    }
   ],
   "source": [
    "a=[ 33,44,65,88 ]\n",
    "a"
   ]
  },
  {
   "cell_type": "code",
   "execution_count": 2,
   "id": "a268e7fc-6f44-4596-becf-5405b54286b6",
   "metadata": {},
   "outputs": [
    {
     "data": {
      "text/plain": [
       "list"
      ]
     },
     "execution_count": 2,
     "metadata": {},
     "output_type": "execute_result"
    }
   ],
   "source": [
    "type(a)"
   ]
  },
  {
   "cell_type": "code",
   "execution_count": 4,
   "id": "0d8e1e85-a5cc-4d4e-8b9b-cde9adc31a73",
   "metadata": {},
   "outputs": [
    {
     "data": {
      "text/plain": [
       "['data', 'true', 3, 100]"
      ]
     },
     "execution_count": 4,
     "metadata": {},
     "output_type": "execute_result"
    }
   ],
   "source": [
    "b=[ 'data','true',3,100 ]\n",
    "b"
   ]
  },
  {
   "cell_type": "code",
   "execution_count": 5,
   "id": "39dbc32b-233d-4169-992e-e5365dc4b5bf",
   "metadata": {},
   "outputs": [
    {
     "data": {
      "text/plain": [
       "list"
      ]
     },
     "execution_count": 5,
     "metadata": {},
     "output_type": "execute_result"
    }
   ],
   "source": [
    "type(b)"
   ]
  },
  {
   "cell_type": "code",
   "execution_count": 30,
   "id": "a791b3b9-ed6f-4166-9270-97bdc5946e8e",
   "metadata": {},
   "outputs": [
    {
     "data": {
      "text/plain": [
       "[203, 'Hyderabad', 45, True, False, 78, 99.5, 90, 100]"
      ]
     },
     "execution_count": 30,
     "metadata": {},
     "output_type": "execute_result"
    }
   ],
   "source": [
    "c=[ 203,'Hyderabad',45,True,False,78,99.5,90,100 ]\n",
    "c"
   ]
  },
  {
   "cell_type": "code",
   "execution_count": 7,
   "id": "fe07599d-e2cc-4042-adb6-6e28a0ebd948",
   "metadata": {},
   "outputs": [
    {
     "data": {
      "text/plain": [
       "203"
      ]
     },
     "execution_count": 7,
     "metadata": {},
     "output_type": "execute_result"
    }
   ],
   "source": [
    "c[0]"
   ]
  },
  {
   "cell_type": "code",
   "execution_count": 11,
   "id": "80f75e81-7114-454b-8e68-71ab5b25748c",
   "metadata": {},
   "outputs": [
    {
     "data": {
      "text/plain": [
       "99.5"
      ]
     },
     "execution_count": 11,
     "metadata": {},
     "output_type": "execute_result"
    }
   ],
   "source": [
    "c[6]"
   ]
  },
  {
   "cell_type": "code",
   "execution_count": 9,
   "id": "feba81aa-3a1e-429f-8bca-811065b3f871",
   "metadata": {},
   "outputs": [
    {
     "data": {
      "text/plain": [
       "False"
      ]
     },
     "execution_count": 9,
     "metadata": {},
     "output_type": "execute_result"
    }
   ],
   "source": [
    "c[4]"
   ]
  },
  {
   "cell_type": "code",
   "execution_count": 31,
   "id": "8ded95a5-ceb9-4312-a4e8-e9a54fefefe2",
   "metadata": {},
   "outputs": [
    {
     "data": {
      "text/plain": [
       "['Hyderabad', 45, True, False]"
      ]
     },
     "execution_count": 31,
     "metadata": {},
     "output_type": "execute_result"
    }
   ],
   "source": [
    "c[1:5]"
   ]
  },
  {
   "cell_type": "code",
   "execution_count": 13,
   "id": "d8a96554-3269-49d2-8546-a9d9f29414a8",
   "metadata": {},
   "outputs": [
    {
     "data": {
      "text/plain": [
       "[45]"
      ]
     },
     "execution_count": 13,
     "metadata": {},
     "output_type": "execute_result"
    }
   ],
   "source": [
    "c[2:3]"
   ]
  },
  {
   "cell_type": "code",
   "execution_count": 14,
   "id": "c21abd82-58e4-438e-b7f9-14f3be81e88a",
   "metadata": {},
   "outputs": [
    {
     "data": {
      "text/plain": [
       "['Hyderabad', 45, True, False, 78, 99.5]"
      ]
     },
     "execution_count": 14,
     "metadata": {},
     "output_type": "execute_result"
    }
   ],
   "source": [
    "c[1:7]"
   ]
  },
  {
   "cell_type": "code",
   "execution_count": 15,
   "id": "2fc82b2b-006d-464e-af96-8abc647879ff",
   "metadata": {},
   "outputs": [
    {
     "data": {
      "text/plain": [
       "[203, 45, False, 99.5]"
      ]
     },
     "execution_count": 15,
     "metadata": {},
     "output_type": "execute_result"
    }
   ],
   "source": [
    "c[0::2]"
   ]
  },
  {
   "cell_type": "code",
   "execution_count": 32,
   "id": "9f0903e1-402f-46c5-894a-be5983568c4e",
   "metadata": {},
   "outputs": [
    {
     "data": {
      "text/plain": [
       "[203, False, 100]"
      ]
     },
     "execution_count": 32,
     "metadata": {},
     "output_type": "execute_result"
    }
   ],
   "source": [
    "c[0:9:4]"
   ]
  },
  {
   "cell_type": "code",
   "execution_count": 17,
   "id": "3bff99ea-2ff2-4ec0-9b16-5212e0a55e6f",
   "metadata": {},
   "outputs": [
    {
     "data": {
      "text/plain": [
       "78"
      ]
     },
     "execution_count": 17,
     "metadata": {},
     "output_type": "execute_result"
    }
   ],
   "source": [
    "c[-3]"
   ]
  },
  {
   "cell_type": "code",
   "execution_count": 33,
   "id": "2dfe7be3-3394-492c-8abf-d80aae6c0c2b",
   "metadata": {},
   "outputs": [
    {
     "data": {
      "text/plain": [
       "[100]"
      ]
     },
     "execution_count": 33,
     "metadata": {},
     "output_type": "execute_result"
    }
   ],
   "source": [
    "c[-1:-9:-8]"
   ]
  },
  {
   "cell_type": "code",
   "execution_count": 29,
   "id": "b7f9e001-c619-416a-b54d-24441d71b6f9",
   "metadata": {},
   "outputs": [
    {
     "data": {
      "text/plain": [
       "[90, False]"
      ]
     },
     "execution_count": 29,
     "metadata": {},
     "output_type": "execute_result"
    }
   ],
   "source": [
    "c[-1:-7:-3]"
   ]
  },
  {
   "cell_type": "code",
   "execution_count": 34,
   "id": "ea753df5-1880-4cfb-9581-bd73f3ac4f77",
   "metadata": {},
   "outputs": [],
   "source": [
    "#list methods#"
   ]
  },
  {
   "cell_type": "code",
   "execution_count": null,
   "id": "e4bbf4ec-a850-42f8-b1d6-f1ee3478a0a2",
   "metadata": {},
   "outputs": [],
   "source": [
    "#append\n",
    "#insert\n",
    "#extend\n",
    "#pop\n",
    "#remove\n",
    "#clear\n",
    "#count"
   ]
  },
  {
   "cell_type": "code",
   "execution_count": 35,
   "id": "0c7926c8-293f-465d-9956-990cb14e53a8",
   "metadata": {},
   "outputs": [
    {
     "data": {
      "text/plain": [
       "[203, 'Hyderabad', 45, True, False, 78, 99.5, 90, 100]"
      ]
     },
     "execution_count": 35,
     "metadata": {},
     "output_type": "execute_result"
    }
   ],
   "source": [
    "c=[ 203,'Hyderabad',45,True,False,78,99.5,90,100 ]\n",
    "c"
   ]
  },
  {
   "cell_type": "code",
   "execution_count": 36,
   "id": "a529b944-f1af-4367-996b-4ac89d5bd389",
   "metadata": {},
   "outputs": [],
   "source": [
    "c.append(80)"
   ]
  },
  {
   "cell_type": "code",
   "execution_count": 37,
   "id": "d9105f80-d80f-495e-9702-cf5166560929",
   "metadata": {},
   "outputs": [
    {
     "data": {
      "text/plain": [
       "[203, 'Hyderabad', 45, True, False, 78, 99.5, 90, 100, 80]"
      ]
     },
     "execution_count": 37,
     "metadata": {},
     "output_type": "execute_result"
    }
   ],
   "source": [
    "c"
   ]
  },
  {
   "cell_type": "code",
   "execution_count": 38,
   "id": "dde53d53-9091-4771-9209-c3e102c797fd",
   "metadata": {},
   "outputs": [],
   "source": [
    "c.insert(1,90)"
   ]
  },
  {
   "cell_type": "code",
   "execution_count": 39,
   "id": "6e4bed4b-5b19-4921-8c40-ebdcfda1be1e",
   "metadata": {},
   "outputs": [
    {
     "data": {
      "text/plain": [
       "[203, 90, 'Hyderabad', 45, True, False, 78, 99.5, 90, 100, 80]"
      ]
     },
     "execution_count": 39,
     "metadata": {},
     "output_type": "execute_result"
    }
   ],
   "source": [
    "c"
   ]
  },
  {
   "cell_type": "code",
   "execution_count": 40,
   "id": "a8d7bf60-4efe-49fd-a435-07d0e4e971eb",
   "metadata": {},
   "outputs": [],
   "source": [
    "c.remove(45)"
   ]
  },
  {
   "cell_type": "code",
   "execution_count": 41,
   "id": "7ef81cfb-496f-43de-b15b-c570a075dfec",
   "metadata": {},
   "outputs": [
    {
     "data": {
      "text/plain": [
       "[203, 90, 'Hyderabad', True, False, 78, 99.5, 90, 100, 80]"
      ]
     },
     "execution_count": 41,
     "metadata": {},
     "output_type": "execute_result"
    }
   ],
   "source": [
    "c"
   ]
  },
  {
   "cell_type": "code",
   "execution_count": 42,
   "id": "21846e9c-8891-4943-9534-0d032851f75b",
   "metadata": {},
   "outputs": [
    {
     "data": {
      "text/plain": [
       "99.5"
      ]
     },
     "execution_count": 42,
     "metadata": {},
     "output_type": "execute_result"
    }
   ],
   "source": [
    "c.pop(6)"
   ]
  },
  {
   "cell_type": "code",
   "execution_count": 43,
   "id": "7683ee76-c85a-446b-9295-6e6eb330fe66",
   "metadata": {},
   "outputs": [
    {
     "data": {
      "text/plain": [
       "[203, 90, 'Hyderabad', True, False, 78, 90, 100, 80]"
      ]
     },
     "execution_count": 43,
     "metadata": {},
     "output_type": "execute_result"
    }
   ],
   "source": [
    "c"
   ]
  },
  {
   "cell_type": "code",
   "execution_count": 44,
   "id": "4d64c0a2-51e4-4abb-a83e-13922e7d8577",
   "metadata": {},
   "outputs": [
    {
     "data": {
      "text/plain": [
       "True"
      ]
     },
     "execution_count": 44,
     "metadata": {},
     "output_type": "execute_result"
    }
   ],
   "source": [
    "c.pop(3)"
   ]
  },
  {
   "cell_type": "code",
   "execution_count": 45,
   "id": "5b29c0cb-8cfd-4eff-85f7-6945aa70b552",
   "metadata": {},
   "outputs": [
    {
     "data": {
      "text/plain": [
       "[203, 90, 'Hyderabad', False, 78, 90, 100, 80]"
      ]
     },
     "execution_count": 45,
     "metadata": {},
     "output_type": "execute_result"
    }
   ],
   "source": [
    "c"
   ]
  },
  {
   "cell_type": "code",
   "execution_count": 46,
   "id": "62511499-91e0-4654-bdff-8ce5d8e1f5df",
   "metadata": {},
   "outputs": [],
   "source": [
    "c.clear()"
   ]
  },
  {
   "cell_type": "code",
   "execution_count": 47,
   "id": "471d03ba-705f-40c1-9ac6-4169e80c80cd",
   "metadata": {},
   "outputs": [
    {
     "data": {
      "text/plain": [
       "[]"
      ]
     },
     "execution_count": 47,
     "metadata": {},
     "output_type": "execute_result"
    }
   ],
   "source": [
    "c"
   ]
  },
  {
   "cell_type": "code",
   "execution_count": 48,
   "id": "be88e6fd-126a-49f2-a7cc-b37dd910ae18",
   "metadata": {},
   "outputs": [
    {
     "data": {
      "text/plain": [
       "list"
      ]
     },
     "execution_count": 48,
     "metadata": {},
     "output_type": "execute_result"
    }
   ],
   "source": [
    "type(c)"
   ]
  },
  {
   "cell_type": "code",
   "execution_count": 49,
   "id": "50700905-1409-4374-9560-f165ef2144c5",
   "metadata": {},
   "outputs": [
    {
     "data": {
      "text/plain": [
       "0"
      ]
     },
     "execution_count": 49,
     "metadata": {},
     "output_type": "execute_result"
    }
   ],
   "source": [
    "c.count(203)"
   ]
  },
  {
   "cell_type": "code",
   "execution_count": 50,
   "id": "43da10c3-5e3f-4dbc-82a2-3b853ec767a1",
   "metadata": {},
   "outputs": [],
   "source": [
    "c.extend([45,79,50])"
   ]
  },
  {
   "cell_type": "code",
   "execution_count": 52,
   "id": "3225c1e2-5f02-4c97-ba76-c0c66d7fb00b",
   "metadata": {},
   "outputs": [
    {
     "data": {
      "text/plain": [
       "[45, 79, 50]"
      ]
     },
     "execution_count": 52,
     "metadata": {},
     "output_type": "execute_result"
    }
   ],
   "source": [
    "c"
   ]
  },
  {
   "cell_type": "code",
   "execution_count": 53,
   "id": "d7dad898-baa0-433d-8aaf-322390845c78",
   "metadata": {},
   "outputs": [
    {
     "data": {
      "text/plain": [
       "[203, 'Hyderabad', 45, True, False, 78, 99.5, 90, 100]"
      ]
     },
     "execution_count": 53,
     "metadata": {},
     "output_type": "execute_result"
    }
   ],
   "source": [
    "c=[ 203,'Hyderabad',45,True,False,78,99.5,90,100 ]\n",
    "c"
   ]
  },
  {
   "cell_type": "code",
   "execution_count": null,
   "id": "c4467f96-18ae-48e5-b5a0-652e89a6f867",
   "metadata": {},
   "outputs": [],
   "source": [
    "c.extend([23,"
   ]
  }
 ],
 "metadata": {
  "kernelspec": {
   "display_name": "Python 3 (ipykernel)",
   "language": "python",
   "name": "python3"
  },
  "language_info": {
   "codemirror_mode": {
    "name": "ipython",
    "version": 3
   },
   "file_extension": ".py",
   "mimetype": "text/x-python",
   "name": "python",
   "nbconvert_exporter": "python",
   "pygments_lexer": "ipython3",
   "version": "3.12.7"
  }
 },
 "nbformat": 4,
 "nbformat_minor": 5
}
